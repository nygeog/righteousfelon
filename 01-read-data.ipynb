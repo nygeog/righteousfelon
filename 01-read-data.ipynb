{
 "cells": [
  {
   "cell_type": "code",
   "execution_count": 16,
   "metadata": {
    "collapsed": false
   },
   "outputs": [],
   "source": [
    "import pandas as pd\n",
    "\n",
    "inCSV = 'https://www.dropbox.com/s/b3wd54iwoitb7w8/Liquor_Authority_Quarterly_List_of_Active_Licenses_20150720.csv?dl=1'\n",
    "inCSV = '/Users/danielmsheehan/Dropbox/GIS/Data/State/USA/New_York/Liquor_Licenses/open_data/Liquor_Authority_Quarterly_List_of_Active_Licenses_20150720.csv' \n",
    "\n",
    "df = pd.read_csv(inCSV)\n",
    "\n",
    "df = df.rename(columns=lambda x: x.lower())\n",
    "df = df.rename(columns=lambda x: x.replace(' ', '_'))\n",
    "df = df.rename(columns=lambda x: x.replace('(', ''))\n",
    "df = df.rename(columns=lambda x: x.replace(')', ''))\n",
    "\n",
    "#county_name_licensee\t\tzip\tlicense_certificate_number\tlicense_original_issue_date\tlicense_effective_date\tlicense_expiration_date\t\tlocation\n",
    "#df = df[(df.county_name_licensee == 'BRONX') | (df.county_name_licensee == 'NEW YORK') | (df.county_name_licensee == 'QUEENS') | (df.county_name_licensee == 'STATEN ISLAND') | (df.county_name_licensee == 'BROOKLYN') ]\n",
    "       \n",
    "df = df[['county_name_licensee','license_serial_number','license_type_name','license_class_code','license_type_code','premises_name','doing_business_as_dba','actual_address_of_premises_address1','city','state','zip','latitude','longitude']]\n",
    "\n",
    "df.head(10000)\n",
    "\n",
    "df.to_csv('data/liquor_authority_quarterly_list_of_active_licenses_20150720.csv', index=False)\n"
   ]
  },
  {
   "cell_type": "code",
   "execution_count": null,
   "metadata": {
    "collapsed": true
   },
   "outputs": [],
   "source": []
  }
 ],
 "metadata": {
  "kernelspec": {
   "display_name": "Python 2",
   "language": "python",
   "name": "python2"
  },
  "language_info": {
   "codemirror_mode": {
    "name": "ipython",
    "version": 2
   },
   "file_extension": ".py",
   "mimetype": "text/x-python",
   "name": "python",
   "nbconvert_exporter": "python",
   "pygments_lexer": "ipython2",
   "version": "2.7.6"
  }
 },
 "nbformat": 4,
 "nbformat_minor": 0
}
